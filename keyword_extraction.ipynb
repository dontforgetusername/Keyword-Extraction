{
  "nbformat": 4,
  "nbformat_minor": 0,
  "metadata": {
    "colab": {
      "name": "keyword_extraction",
      "provenance": [],
      "collapsed_sections": []
    },
    "kernelspec": {
      "name": "python3",
      "display_name": "Python 3"
    },
    "language_info": {
      "name": "python"
    }
  },
  "cells": [
    {
      "cell_type": "markdown",
      "source": [
        "# TEXT PREPROCESSING"
      ],
      "metadata": {
        "id": "Twf1hBZSVB4-"
      }
    },
    {
      "cell_type": "code",
      "source": [
        "!pip install fasttext"
      ],
      "metadata": {
        "id": "O3mOaQU-_tb8"
      },
      "execution_count": null,
      "outputs": []
    },
    {
      "cell_type": "code",
      "source": [
        "!pip install underthesea"
      ],
      "metadata": {
        "id": "HDjj1mXONHLt"
      },
      "execution_count": null,
      "outputs": []
    },
    {
      "cell_type": "code",
      "source": [
        "from underthesea import word_tokenize"
      ],
      "metadata": {
        "id": "DMsuRbAV1ShP"
      },
      "execution_count": null,
      "outputs": []
    },
    {
      "cell_type": "code",
      "source": [
        "import fasttext\n",
        "import fasttext.util\n",
        "import networkx as nx\n",
        "\n",
        "fasttext.util.download_model('vi', if_exists='ignore')\n",
        "ft = fasttext.load_model('cc.vi.300.bin')\n",
        "ft.get_word_vector('xin chào').shape"
      ],
      "metadata": {
        "colab": {
          "base_uri": "https://localhost:8080/"
        },
        "id": "fi-MKHHq-VNk",
        "outputId": "c36d7281-9f54-4d8c-dcdc-2c738753d514"
      },
      "execution_count": null,
      "outputs": [
        {
          "output_type": "stream",
          "name": "stdout",
          "text": [
            "Downloading https://dl.fbaipublicfiles.com/fasttext/vectors-crawl/cc.vi.300.bin.gz\n",
            "\n"
          ]
        },
        {
          "output_type": "stream",
          "name": "stderr",
          "text": [
            "Warning : `load_model` does not return WordVectorModel or SupervisedModel any more, but a `FastText` object which is very similar.\n"
          ]
        },
        {
          "output_type": "execute_result",
          "data": {
            "text/plain": [
              "(300,)"
            ]
          },
          "metadata": {},
          "execution_count": 3
        }
      ]
    },
    {
      "cell_type": "code",
      "source": [
        "punctuation = ['.','!',',','?','(',')','\"', '&', '-', '/', '\\\\', '*', '+', ',', ':', ';', '=', '>', '<', '?', '\\'', '…', '...']\n",
        "stopwords_file = 'vietnamese-stopwords.txt'\n",
        "with open(stopwords_file, 'r', encoding='utf8') as f:\n",
        "    lines = f.readlines()\n",
        "my_stopwords = []\n",
        "for line in lines:\n",
        "    my_stopwords.append(line.strip())"
      ],
      "metadata": {
        "id": "JXQqLVCoUcYx"
      },
      "execution_count": null,
      "outputs": []
    },
    {
      "cell_type": "code",
      "source": [
        "text =\"Trong khi Thủ tướng Boris Johnson yêu cầu chấm dứt quy định học sinh phải đeo khẩu trang ở trường, Bộ Giáo dục và nhiều tổ chức không tán thành. Sau khi hiệu trưởng các trường trung học trên khắp nước Anh cho biết sẽ tiếp tục khuyến khích học sinh đeo khẩu trang, dù Chính phủ đã bãi bỏ khuyến nghị này, Thủ tướng Johnson lập tức yêu cầu các trường \\\"tuân thủ hướng dẫn mới nhất\\\". Người phát ngôn của Thủ tướng cho biết \\\"Trẻ em là một trong những đối tượng chịu ảnh hưởng nặng nề nhất bởi sự gián đoạn học tập do đại dịch gây ra. Thủ tướng tin rằng điều quan trọng là trẻ em được giáo dục trực tiếp và tận hưởng những trải nghiệm bình thường trong lớp học\\\". Chính quyền Anh khẳng định, quy định đeo khẩu trang trong lớp đã bị loại bỏ. Các khuyến nghị liên quan đến việc này ở nơi công cộng cũng sẽ bị gỡ từ 27/1. Theo các nhà lãnh đạo trường học, sự can thiệp của Thủ tướng Johnson có thể khiến vấn đề trở nên rối ren, bởi Bộ Giáo dục Anh (DfE) đã ban hành hướng dẫn rõ ràng về sự cần thiết của việc đeo khẩu trang ở trường. Bộ trưởng Giáo dục Nadhim Zahawi cho biết đã thống nhất với cơ quan y tế, trong trường hợp Covid-19 phức tạp, các trường ở khu vực đó nên khuyến cáo học sinh đeo khẩu trang. Yêu cầu của Thủ tướng Anh được đưa ra khi nước này ghi nhận thêm 95.787 ca mắc Covid-19 mới trong ngày 21/1, giảm hơn 10.000 so với mức 107.364 ca của ngày trước đó. Trong vòng 28 ngày, 288 người tử vong sau khi nhiễm bệnh. Dù bức tranh toàn quốc được cải thiện, các hiệu trưởng cho biết số ca nhiễm bệnh là học sinh không có dấu hiệu giảm. Theo dữ liệu của Cơ quan An ninh Y tế Anh, các ca nhiễm Covid-19 mới ở học sinh 5-9 tuổi tăng 41% trong một tuần qua. Cứ 100.000 học sinh thì 1.936 em nhiễm bệnh. Điều này cho thấy các trường tiểu học tại Anh đang bị ảnh hưởng nặng nề bởi dịch bệnh. Trường Shuttleworth ở Burnley là một trong các cơ sở giáo dục tuyên bố sẽ duy trì quy định đeo khẩu trang vì số ca nhiễm vẫn cao. Jonathan Hopkins, người đứng đầu trường ngữ pháp Barton Court ở Canterbury, nói với phụ huynh rằng nên để con cái họ tiếp tục đeo khẩu trang thêm khoảng một tuần nữa nhằm hạn chế lây nhiễm. Paul Whiteman, Tổng thư ký của Hiệp hội Hiệu trưởng quốc gia, cho rằng những tuyên bố \\\"đơn giản\\\" của chính phủ có thể đe dọa nỗ lực ngăn chặn bùng phát dịch trong trường học. \\\"Không một ai muốn học sinh phải đeo khẩu trang trong lớp lâu hơn mức cần thiết. Tuy nhiên, điều quan trọng mà chúng ta cần nhớ là nhiều trường vẫn đang vật lộn đối phó với tình trạng nhiễm bệnh cao trong cộng đồng, và điều này khiến nhiều học sinh, nhân viên không thể đến trường\\\", Whiteman nói. Ông gay gắt chỉ trích \\\"thông điệp công khai đơn giản\\\" của chính phủ \\\"không giúp ích được gì\\\". \\\"Hướng dẫn mới nhất của chính phủ đã nêu rõ, các biện pháp phòng, chống Covid-19 khác nhau giữa các khu vực, và cơ quan y tế có thể khuyến cáo học sinh đeo khẩu trang nếu cảm thấy cần thiết. Chính phủ phải có trách nhiệm giải thích với phụ huynh về việc này\\\", Whiteman nói thêm. Các trường không phải lúc nào cũng có thời gian để hỏi ý kiến cơ quan y tế, hoặc để thông báo thay đổi với phụ huynh và nhân viên. \\\"Do đó, không có gì ngạc nhiên nếu nhiều trường vẫn yêu cầu học sinh đeo khẩu trang, trong khi một số khác loại bỏ quy định này\\\", Barton nói. Còn ở xứ Wales, chính quyền cho biết họ vẫn sẽ giữ lại quy định đeo khẩu trang tại các trường trung học và cao đẳng trong khoảng một tháng nữa.\""
      ],
      "metadata": {
        "id": "wMridWyeYkMg"
      },
      "execution_count": null,
      "outputs": []
    },
    {
      "cell_type": "code",
      "source": [
        "words = [word.lower() for word in word_tokenize(text) if word not in punctuation and word not in my_stopwords]\n",
        "\n",
        "i = 0\n",
        "while i < len(words):\n",
        "  if not words[i][0].isalpha() and not words[i][0].isdigit():\n",
        "    if (len(words[i]) == 1):\n",
        "      words.pop(i)\n",
        "    else:\n",
        "      words[i] = words[i][1:]\n",
        "  else:\n",
        "    i += 1\n",
        "\n"
      ],
      "metadata": {
        "id": "tOFU6dzRZPrD"
      },
      "execution_count": null,
      "outputs": []
    },
    {
      "cell_type": "markdown",
      "source": [
        "# BUILDING TEXT GRAPH"
      ],
      "metadata": {
        "id": "fvMWaw9PZ8ap"
      }
    },
    {
      "cell_type": "code",
      "source": [
        "from scipy.spatial.distance import cosine\n",
        "\n",
        "#calculate cosine similarity: maximally \"dissimilar\": orthogonal (cosine = 1) (range: [0;2])\n",
        "def semantic(word1, word2, ft):\n",
        "  vec1 = ft.get_word_vector(word1)\n",
        "  vec2 = ft.get_word_vector(word2)\n",
        "  if ft.get_word_id(word1) != -1 and ft.get_word_id(word2) != -1:\n",
        "    return cosine(vec1, vec2)\n",
        "  if ft.get_word_id(word1) == -1:\n",
        "    vec1 = ft.get_word_vector(word1.replace(' ', '_'))\n",
        "  if ft.get_word_id(word2) == -1:\n",
        "    vec2 = ft.get_word_vector(word2.replace(' ', '_'))\n",
        "  return cosine(vec1, vec2)\n",
        "\n",
        "#calculate the frequency of two words occurred in the same window\n",
        "def freq(word1, word2, n_windows, words):\n",
        "  c = 0\n",
        "  for i in range(n_windows):\n",
        "    if word1 in words[i:i+3] and word2 in words[i:i+3]:\n",
        "      c += 1\n",
        "  return c/n_windows"
      ],
      "metadata": {
        "id": "seWiGS5RJkry"
      },
      "execution_count": null,
      "outputs": []
    },
    {
      "cell_type": "code",
      "source": [
        "G = nx.Graph()\n",
        "G.add_nodes_from(words)\n",
        "window = 2\n",
        "n_windows = len(words) - 4 # a window contains 2*2+1=5 words\n",
        "for i, word1 in enumerate(words):\n",
        "  #co-occurrence\n",
        "  for j in range(i + 1, min(i + window + 1, len(words))):\n",
        "    word2 = words[j]\n",
        "    if word1 != word2:\n",
        "      edge_weight = freq(word1, word2, n_windows, words)\n",
        "      if edge_weight < 0.02:\n",
        "        edge_weight = 0\n",
        "      G.add_weighted_edges_from([(word1, word2, edge_weight)])\n",
        "  for j in range(max(i + window + 1, len(words) - 1), min(i + window + 2, len(words))):\n",
        "    word2 = words[j]\n",
        "    if word1 != word2:\n",
        "      edge_weight = semantic(word1, word2, ft)\n",
        "      if edge_weight > 0.7 and edge_weight < 1.3:\n",
        "        edge_weight = 0\n",
        "      else:\n",
        "        edge_weight = abs(1 - edge_weight)\n",
        "      G.add_weighted_edges_from([(word1, word2, edge_weight)])\n",
        "\n",
        "w = nx.pagerank(G)\n",
        "keywords = sorted(w, key=w.get, reverse=True)[:20]\n",
        "print(keywords)"
      ],
      "metadata": {
        "id": "Kar3VrMiZTzs",
        "colab": {
          "base_uri": "https://localhost:8080/"
        },
        "outputId": "e1d7e22e-3c40-435b-f4cf-49120135a5ab"
      },
      "execution_count": null,
      "outputs": [
        {
          "output_type": "stream",
          "name": "stdout",
          "text": [
            "['đeo', 'khẩu trang', 'cơ quan', 'y tế', 'học sinh', 'quy định', 'trường', 'trong', 'thủ tướng', 'boris johnson', 'chấm dứt', 'bộ giáo dục', 'tổ chức', 'tán thành', 'sau', 'hiệu trưởng', 'trung học', 'khắp', 'anh', 'khuyến khích']\n"
          ]
        }
      ]
    }
  ]
}